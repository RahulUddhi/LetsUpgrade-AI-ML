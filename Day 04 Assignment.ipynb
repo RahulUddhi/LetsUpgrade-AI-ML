{
 "cells": [
  {
   "cell_type": "markdown",
   "metadata": {},
   "source": [
    "# Question 1\n",
    "\n",
    "### Operations on complex numbers"
   ]
  },
  {
   "cell_type": "code",
   "execution_count": 1,
   "metadata": {},
   "outputs": [],
   "source": [
    "a1 = 2 + 4j\n",
    "#Second complex number\n",
    "a2 = 5 + 16j\n",
    "\n",
    "#Addition\n",
    "print(\"Addition of two complex number =\", a1 + a2)\n",
    "\n",
    "#Subtraction\n",
    "print(\"Subtraction of two complex number =\", a1 - a2)\n",
    "\n",
    "#Multiplication\n",
    "print(\"Multiplication of two complex number =\", a1 * a2)\n",
    "    \n",
    "#Division\n",
    "print(\"Division of two complex number =\", a1 / a2)"
   ]
  },
  {
   "cell_type": "markdown",
   "metadata": {},
   "source": [
    "# Question 2:\n",
    "\n",
    "### Range()\n",
    "\n",
    "##### Range function was introduced in python3, but earlier in python2, a similar function xrange() was used.\n",
    "\n",
    "##### Main difference between Range and xrange is that, xrange consumes less memory where as Range function takes more memory as it returns a list or sequence of numbers. \n",
    "\n",
    "##### Range() only stores the start, stop and step values, it consumes less amount of memory irrespective of the range it represents when compared to a list or tuple\n",
    "\n",
    "##### Range() can be represented in three different ways\n",
    "###### > range(stop_value) : By Default considers the starting point as zero \n",
    "###### > range(start_value, stop_value) : Generates based on starting value and stop value.\n",
    "###### > range(start_value, stop_value, step_size) : Incrementing the start value using the step size until it reaches the stop value."
   ]
  },
  {
   "cell_type": "code",
   "execution_count": 1,
   "metadata": {},
   "outputs": [
    {
     "name": "stdout",
     "output_type": "stream",
     "text": [
      "0\n",
      "1\n",
      "2\n",
      "3\n",
      "4\n",
      "5\n",
      "6\n",
      "7\n",
      "8\n",
      "9\n"
     ]
    }
   ],
   "source": [
    "for i in range(10):\n",
    "    print(i)"
   ]
  },
  {
   "cell_type": "code",
   "execution_count": 2,
   "metadata": {},
   "outputs": [
    {
     "name": "stdout",
     "output_type": "stream",
     "text": [
      "10\n",
      "11\n",
      "12\n",
      "13\n",
      "14\n",
      "15\n",
      "16\n",
      "17\n",
      "18\n",
      "19\n"
     ]
    }
   ],
   "source": [
    "for i in range(10, 20):\n",
    "    print(i)"
   ]
  },
  {
   "cell_type": "code",
   "execution_count": 3,
   "metadata": {},
   "outputs": [
    {
     "name": "stdout",
     "output_type": "stream",
     "text": [
      "50\n",
      "60\n",
      "70\n",
      "80\n",
      "90\n"
     ]
    }
   ],
   "source": [
    "for i in range(50, 100, 10):\n",
    "    print(i)"
   ]
  },
  {
   "cell_type": "code",
   "execution_count": 4,
   "metadata": {},
   "outputs": [
    {
     "name": "stdout",
     "output_type": "stream",
     "text": [
      "[0, 1, 2, 3, 4, 5, 6, 7, 8, 9]\n",
      "10\n"
     ]
    }
   ],
   "source": [
    "print(list(range(10)))\n",
    "print(len(list(range(10))))"
   ]
  },
  {
   "cell_type": "code",
   "execution_count": 5,
   "metadata": {},
   "outputs": [
    {
     "ename": "TypeError",
     "evalue": "'float' object cannot be interpreted as an integer",
     "output_type": "error",
     "traceback": [
      "\u001b[0;31m---------------------------------------------------------------------------\u001b[0m",
      "\u001b[0;31mTypeError\u001b[0m                                 Traceback (most recent call last)",
      "\u001b[0;32m<ipython-input-5-78cc3c4a9e40>\u001b[0m in \u001b[0;36m<module>\u001b[0;34m\u001b[0m\n\u001b[1;32m      3\u001b[0m \u001b[0;34m\u001b[0m\u001b[0m\n\u001b[1;32m      4\u001b[0m \u001b[0;34m\u001b[0m\u001b[0m\n\u001b[0;32m----> 5\u001b[0;31m \u001b[0;32mfor\u001b[0m \u001b[0mi\u001b[0m \u001b[0;32min\u001b[0m \u001b[0mrange\u001b[0m\u001b[0;34m(\u001b[0m\u001b[0;36m0.2\u001b[0m\u001b[0;34m,\u001b[0m \u001b[0;36m2.4\u001b[0m\u001b[0;34m)\u001b[0m\u001b[0;34m:\u001b[0m\u001b[0;34m\u001b[0m\u001b[0;34m\u001b[0m\u001b[0m\n\u001b[0m\u001b[1;32m      6\u001b[0m     \u001b[0mprint\u001b[0m\u001b[0;34m(\u001b[0m\u001b[0mi\u001b[0m\u001b[0;34m)\u001b[0m\u001b[0;34m\u001b[0m\u001b[0;34m\u001b[0m\u001b[0m\n",
      "\u001b[0;31mTypeError\u001b[0m: 'float' object cannot be interpreted as an integer"
     ]
    }
   ],
   "source": [
    "# Range() works on integer or whole number, it doesnt support float number and string data type.\n",
    "# We get a type error for float number\n",
    "\n",
    "\n",
    "for i in range(0.2, 2.4):\n",
    "    print(i)"
   ]
  },
  {
   "cell_type": "markdown",
   "metadata": {},
   "source": [
    "# Question 3:\n",
    "#### Perform subraction, if greater than 25 print thier multiplication else division"
   ]
  },
  {
   "cell_type": "code",
   "execution_count": 6,
   "metadata": {},
   "outputs": [
    {
     "name": "stdout",
     "output_type": "stream",
     "text": [
      "Enter a number12\n",
      "Enter a second number15\n",
      "enter the operation to perform\n",
      "Enter any of one: +,-,*,/+\n",
      "12 + 15 : 27\n"
     ]
    }
   ],
   "source": [
    "num1 = int(input(\"Enter a number\"))\n",
    "num2 = int(input(\"Enter a second number\"))\n",
    "\n",
    "print(\"enter the operation to perform\")\n",
    "ch = input(\"Enter any of one: +,-,*,/\")\n",
    "\n",
    "res = 0\n",
    "if ch == '+':\n",
    "    res = num1 + num2\n",
    "elif ch == '-':\n",
    "    res = num1 + num2\n",
    "elif ch == '*':\n",
    "    res = num1 + num2\n",
    "elif ch == '/':\n",
    "    res = num1 + num2\n",
    "    \n",
    "else:\n",
    "    print(\"Input is not recognized\")\n",
    "    \n",
    "print(num1, ch, num2, \":\", res)"
   ]
  },
  {
   "cell_type": "code",
   "execution_count": 7,
   "metadata": {},
   "outputs": [
    {
     "name": "stdout",
     "output_type": "stream",
     "text": [
      "Enter a first number12\n",
      "Enter a second number33\n",
      "Performing the subtraction of two numbers: -21\n",
      "Division of numbers : 0.36363636363636365\n"
     ]
    }
   ],
   "source": [
    "num1 = int(input(\"Enter a first number\"))\n",
    "num2 = int(input(\"Enter a second number\"))\n",
    "\n",
    "print(\"Performing the subtraction of two numbers:\", num1 - num2)\n",
    "\n",
    "if(num1 - num2 > 25):\n",
    "    print(\"Multiplication of numbers :\", num1 * num2)\n",
    "else:\n",
    "    print(\"Division of numbers :\", num1 / num2)\n",
    "    "
   ]
  },
  {
   "cell_type": "markdown",
   "metadata": {},
   "source": [
    "# Question 4\n",
    "#### 10 integer values, divisible by 2, print the \"sqaure of that number minus 2\""
   ]
  },
  {
   "cell_type": "code",
   "execution_count": 8,
   "metadata": {},
   "outputs": [
    {
     "name": "stdout",
     "output_type": "stream",
     "text": [
      "Number 26\n",
      "674\n",
      "Number 28\n",
      "782\n",
      "Number 30\n",
      "898\n",
      "Number 32\n",
      "1022\n",
      "Number 34\n",
      "1154\n"
     ]
    }
   ],
   "source": [
    "for i in range(25, 35):\n",
    "    if(i%2==0):\n",
    "        print(\"Number\", i)\n",
    "        print((i**2)-2)"
   ]
  },
  {
   "cell_type": "markdown",
   "metadata": {},
   "source": [
    "# Question 5\n",
    "#### list of 10 elements, print elements greater than 7 when that number is divided by 2"
   ]
  },
  {
   "cell_type": "code",
   "execution_count": 9,
   "metadata": {},
   "outputs": [
    {
     "name": "stdout",
     "output_type": "stream",
     "text": [
      "10\n",
      "\n",
      "\n",
      "10\n",
      "20\n",
      "24\n",
      "12\n",
      "34\n",
      "56\n",
      "14\n"
     ]
    }
   ],
   "source": [
    "a = [10, 20, 24, 4, 12, 34, 56, 43, 6, 14]\n",
    "print(len(a))\n",
    "print(\"\\n\")\n",
    "for i in a:\n",
    "    if i % 2 == 0:\n",
    "        if i > 7:\n",
    "            print(i)"
   ]
  },
  {
   "cell_type": "code",
   "execution_count": null,
   "metadata": {},
   "outputs": [],
   "source": []
  }
 ],
 "metadata": {
  "kernelspec": {
   "display_name": "Python 3",
   "language": "python",
   "name": "python3"
  },
  "language_info": {
   "codemirror_mode": {
    "name": "ipython",
    "version": 3
   },
   "file_extension": ".py",
   "mimetype": "text/x-python",
   "name": "python",
   "nbconvert_exporter": "python",
   "pygments_lexer": "ipython3",
   "version": "3.7.6"
  }
 },
 "nbformat": 4,
 "nbformat_minor": 4
}
