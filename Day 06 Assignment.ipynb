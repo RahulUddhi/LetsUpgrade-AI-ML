{
 "cells": [
  {
   "cell_type": "markdown",
   "metadata": {},
   "source": [
    "# Question 1\n",
    "#### Program to print the email address"
   ]
  },
  {
   "cell_type": "code",
   "execution_count": null,
   "metadata": {},
   "outputs": [],
   "source": [
    "def email_re(emailaddress):\n",
    "    emailaddress = input(\"Enter a valid emial id: \")\n",
    "    emailaddress.split(\"@\", 1)\n",
    "    print(\"Entered email is: \", emailaddress)\n",
    "    username = emailaddress.split(\"@\", 1)[0]\n",
    "    username.split(\".\", 1)\n",
    "    name = ' '.join(map(str, [x.capitalize() for x in username.split(\".\")]))\n",
    "    print(\"Hello, \",name)\n",
    "    surname = username.split(\".\", 1)[1].capitalize()\n",
    "    domainname = emailaddress.split(\"@\", 1)\n",
    "    res1 = [i for i in domainname]\n",
    "    res2 = res1[1].split('.')\n",
    "    print(\"Your company name is, \",res2[0])\n",
    "    \n",
    "email_re(emailaddress)"
   ]
  },
  {
   "cell_type": "markdown",
   "metadata": {},
   "source": [
    "# Question 2\n",
    "\n",
    "#### comma separated sequence sorting them alphabetically"
   ]
  },
  {
   "cell_type": "code",
   "execution_count": null,
   "metadata": {},
   "outputs": [],
   "source": [
    "def alph_sort(a):\n",
    "    x = sorted(a)\n",
    "    print(\"Sorted order of the list: \", x)\n",
    "    print(\"\\n\")\n",
    "    print('__If the list must be sorted in reversed order:')\n",
    "    y = sorted(a, reverse=True)\n",
    "    print(y)\n",
    "    \n",
    "alph_sort(a = [\"Hector\", \"Hyundai\" , \"Bucati\", \"Audi\", \"Cruiz\", \"Ferrari\", \"Dodge\", \"Jeep\", \"Lamborghini\"])"
   ]
  },
  {
   "cell_type": "markdown",
   "metadata": {},
   "source": [
    "# Question 3\n",
    "\n",
    "#### Sets in python\n"
   ]
  },
  {
   "cell_type": "code",
   "execution_count": null,
   "metadata": {},
   "outputs": [],
   "source": [
    "'''\n",
    "\n",
    "The sets module provides classes for constructing and manipulating unordered collections of unique elements.\n",
    "Common uses include membership testing, removing duplicates from a sequence, and computing standard math operations on sets such as intersection, union, difference, and symmetric difference.\n",
    "\n",
    "Like other collections, sets support x in set, len(set), and for x in set. \n",
    "Being an unordered collection, sets do not record element position or order of insertion. Accordingly, sets do not support indexing, slicing, or other sequence-like behavior.\n",
    "\n",
    "The major advantage of using a set, as opposed to a list, is that it has a highly optimized method for checking whether a specific element is contained in the set. This is based on a data structure known as a hash table. Since sets are unordered, \n",
    "we cannot access items using indexes like we do in lists.\n",
    "\n",
    "'''\n",
    "print(\"Example_01\")\n",
    "myset = set(['a','b','c'])\n",
    "print(myset)\n",
    "myset.add(\"d\")\n",
    "print(myset)\n",
    "print(\"*\"*50)\n",
    "print(\"Different types of sets in python\")\n",
    "my_set = {1, 2, 3}\n",
    "print(my_set)\n",
    "my_set = {1,2,3,3,4,5,2}\n",
    "print(\"Set doesnt contain duplicate:\", my_set)\n",
    "my_set = {1.0, \"Hello\", (1, 2, 3)}\n",
    "print(my_set)\n",
    "print(\"*\"*50)\n",
    "print(\"Using operator \")\n",
    "engineers = set(['John', 'Jane', 'Jack', 'Janice'])\n",
    "programmers = set(['Jack', 'Sam', 'Susan', 'Janice'])\n",
    "managers = set(['Jane', 'Jack', 'Susan', 'Zack'])\n",
    "employees = engineers | programmers | managers\n",
    "print(\"Listed Employes, \",employees)\n",
    "engineering_management = engineers & managers            \n",
    "fulltime_management = managers - engineers - programmers\n",
    "engineers.add('Marvin')\n",
    "print(engineers)"
   ]
  },
  {
   "cell_type": "markdown",
   "metadata": {},
   "source": [
    "# Question 4\n",
    "\n",
    "#### Find the missing number in the given list"
   ]
  },
  {
   "cell_type": "code",
   "execution_count": null,
   "metadata": {},
   "outputs": [],
   "source": [
    "# Finding the missing number in the list\n",
    "\n",
    "test_list = [1,2,3,4,6,7,8,9]\n",
    "\n",
    "print(\"Original list :\", str(test_list))\n",
    "\n",
    "#Using set()\n",
    "res = list(set(range(max(test_list)+1))- set(test_list))\n",
    "\n",
    "print(\"Missing element in the list is: \", str(res))"
   ]
  },
  {
   "cell_type": "code",
   "execution_count": null,
   "metadata": {},
   "outputs": [],
   "source": [
    "# Alternative method\n",
    "\n",
    "def find_missing(lst):\n",
    "    return [x for x in range(lst[0], lst[-1]+1) if x not in lst]\n",
    "\n",
    "lst = [1,2,4,6,3,7,8]\n",
    "print(\"Missing element in the above list is, \",find_missing(lst))"
   ]
  },
  {
   "cell_type": "markdown",
   "metadata": {},
   "source": [
    "# Question 5:\n",
    "\n",
    "#### remove duplicate and sort the list"
   ]
  },
  {
   "cell_type": "code",
   "execution_count": null,
   "metadata": {},
   "outputs": [],
   "source": [
    "def ord_lst(l):\n",
    "    if l<=35:\n",
    "        return a\n",
    "    \n",
    "l = set([12, 24, 35, 24, 88, 120, 155, 88, 120, 155])\n",
    "d = list(filter(ord_lst, l))\n",
    "print(sorted(d))"
   ]
  },
  {
   "cell_type": "code",
   "execution_count": null,
   "metadata": {},
   "outputs": [],
   "source": []
  },
  {
   "cell_type": "code",
   "execution_count": null,
   "metadata": {},
   "outputs": [],
   "source": []
  },
  {
   "cell_type": "code",
   "execution_count": null,
   "metadata": {},
   "outputs": [],
   "source": []
  },
  {
   "cell_type": "code",
   "execution_count": null,
   "metadata": {},
   "outputs": [],
   "source": []
  }
 ],
 "metadata": {
  "kernelspec": {
   "display_name": "Python 3",
   "language": "python",
   "name": "python3"
  },
  "language_info": {
   "codemirror_mode": {
    "name": "ipython",
    "version": 3
   },
   "file_extension": ".py",
   "mimetype": "text/x-python",
   "name": "python",
   "nbconvert_exporter": "python",
   "pygments_lexer": "ipython3",
   "version": "3.7.6"
  }
 },
 "nbformat": 4,
 "nbformat_minor": 4
}
