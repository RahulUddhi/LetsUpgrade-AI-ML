{
 "cells": [
  {
   "cell_type": "markdown",
   "metadata": {},
   "source": [
    "# Question 1:\n",
    "## program to subtract two complex number in python"
   ]
  },
  {
   "cell_type": "code",
   "execution_count": 27,
   "metadata": {},
   "outputs": [
    {
     "name": "stdout",
     "output_type": "stream",
     "text": [
      "subtraction is : (-3-2j)\n"
     ]
    }
   ],
   "source": [
    "def subComplex( z1, z2): \n",
    "    return z2-z1 \n",
    "   \n",
    "      \n",
    "# driver code \n",
    "z1 = complex(4, 3) \n",
    "z2 = complex(7, 5) \n",
    "  \n",
    "print(\"subtraction is :\", subComplex(z2,z1))\n"
   ]
  },
  {
   "cell_type": "markdown",
   "metadata": {},
   "source": [
    "# Question 2:\n",
    "## find the fourth root of a number\n"
   ]
  },
  {
   "cell_type": "code",
   "execution_count": 3,
   "metadata": {},
   "outputs": [
    {
     "name": "stdout",
     "output_type": "stream",
     "text": [
      "10000\n"
     ]
    }
   ],
   "source": [
    "a = 10\n",
    "print(a ** 4)"
   ]
  },
  {
   "cell_type": "markdown",
   "metadata": {},
   "source": [
    "# Question 3:\n",
    "## swap two numbers using temp variable"
   ]
  },
  {
   "cell_type": "code",
   "execution_count": 4,
   "metadata": {},
   "outputs": [
    {
     "name": "stdout",
     "output_type": "stream",
     "text": [
      "The value of x after swapping: 10\n",
      "The value of y after swapping: 5\n"
     ]
    }
   ],
   "source": [
    "x = 5\n",
    "y = 10\n",
    "\n",
    "#x = input('Enter value of x: ')\n",
    "#y = input('Enter value of y: ')\n",
    "\n",
    "temp = x\n",
    "x = y\n",
    "y = temp\n",
    "\n",
    "print('The value of x after swapping: {}'.format(x))\n",
    "print('The value of y after swapping: {}'.format(y))"
   ]
  },
  {
   "cell_type": "markdown",
   "metadata": {},
   "source": [
    "# Question 4:\n",
    "## swap two numbers without using temp variable"
   ]
  },
  {
   "cell_type": "code",
   "execution_count": 7,
   "metadata": {},
   "outputs": [
    {
     "name": "stdout",
     "output_type": "stream",
     "text": [
      "The value of x after swapping: 10\n",
      "The value of y after swapping: 5\n"
     ]
    }
   ],
   "source": [
    "x = 5\n",
    "y = 10\n",
    "\n",
    "x, y = y,x\n",
    "\n",
    "print('The value of x after swapping: {}'.format(x))\n",
    "print('The value of y after swapping: {}'.format(y))"
   ]
  },
  {
   "cell_type": "markdown",
   "metadata": {},
   "source": [
    "# Question 5:\n",
    "## program to convert fahrenheit to kelvin and celsius."
   ]
  },
  {
   "cell_type": "code",
   "execution_count": 10,
   "metadata": {},
   "outputs": [
    {
     "name": "stdout",
     "output_type": "stream",
     "text": [
      "Temperature in Kelvin ( K ) = 100.000\n"
     ]
    }
   ],
   "source": [
    "F = 100\n",
    "kelvin = 273.5 + ((F - 32.0) * (5.0/9.0))\n",
    "print(\"Temperature in Kelvin ( K ) = {:.3f}\" \n",
    "            .format( F )) "
   ]
  },
  {
   "cell_type": "code",
   "execution_count": 16,
   "metadata": {},
   "outputs": [
    {
     "name": "stdout",
     "output_type": "stream",
     "text": [
      "8.6 degree fahrenheit is equal to 47.5 degree celius\n"
     ]
    }
   ],
   "source": [
    "'''\n",
    "Formula for fahrenheit to celius\n",
    "\n",
    "celsius = (fahrenheit - 32) / 1.8\n",
    "\n",
    "'''\n",
    "fahrenheit = 47.5\n",
    "\n",
    "# calculate fahrenheit\n",
    "celsius = (fahrenheit - 32) / 1.8\n",
    "print('%0.1f degree fahrenheit is equal to %0.1f degree celius' %(celsius,fahrenheit))"
   ]
  },
  {
   "cell_type": "code",
   "execution_count": 17,
   "metadata": {},
   "outputs": [
    {
     "name": "stdout",
     "output_type": "stream",
     "text": [
      "37.5 degree Celsius is equal to 99.5 degree Fahrenheit\n"
     ]
    }
   ],
   "source": [
    "celsius = 37.5\n",
    "fahrenheit = (celsius * 1.8) + 32\n",
    "print('%0.1f degree Celsius is equal to %0.1f degree Fahrenheit' %(celsius,fahrenheit))\n"
   ]
  },
  {
   "cell_type": "markdown",
   "metadata": {},
   "source": [
    "# Question 6:\n",
    "## all available data types"
   ]
  },
  {
   "cell_type": "code",
   "execution_count": 24,
   "metadata": {},
   "outputs": [
    {
     "name": "stdout",
     "output_type": "stream",
     "text": [
      "5 is of type <class 'int'>\n",
      "2.0 is of type <class 'float'>\n",
      "(1+2j) is complex number\n",
      "[1, 2, 3, 4] is of type <class 'list'>\n",
      "(1, 2, 3, 4) is of type <class 'tuple'>\n",
      "{'name': 'rahul', 'bike': 'Duke'} is of type <class 'dict'>\n",
      "This is a string is of type <class 'str'>\n",
      "{1, 2, 3, 5} is of type <class 'set'>\n"
     ]
    }
   ],
   "source": [
    "a = 5\n",
    "print(a, \"is of type\", type(a))\n",
    "\n",
    "a = 2.0\n",
    "print(a, \"is of type\", type(a))\n",
    "\n",
    "a = 1+2j\n",
    "print(a, \"is complex number\")\n",
    "\n",
    "a = [1,2,3,4]\n",
    "print(a, \"is of type\", type(a))\n",
    "\n",
    "a = (1,2,3,4)\n",
    "print(a, \"is of type\", type(a))\n",
    "\n",
    "a = {\"name\":'rahul', \"bike\":'Duke'}\n",
    "print(a, \"is of type\", type(a))\n",
    "\n",
    "a = \"This is a string\"\n",
    "print(a, \"is of type\", type(a))\n",
    "\n",
    "a = {5,5,3,1,1,2,2}\n",
    "print(a, \"is of type\", type(a))\n",
    "\n"
   ]
  },
  {
   "cell_type": "markdown",
   "metadata": {},
   "source": []
  },
  {
   "cell_type": "markdown",
   "metadata": {},
   "source": [
    "### Steps discussed in the session by Dr.Darshan Ingle\n",
    "\n",
    "\n",
    "### steps to create github repo:\n",
    "#### > create a github account using gmail\n",
    "#### > click on new button next to repositories\n",
    "#### > Add the repository name as \"LetsUpgrade-AI-ML\"\n",
    "#### > make it as \"Public\"\n",
    "#### > Click on \"Create Repository\"\n",
    "#### > For testing purpose, upload a file to repo"
   ]
  },
  {
   "cell_type": "code",
   "execution_count": null,
   "metadata": {},
   "outputs": [],
   "source": []
  },
  {
   "cell_type": "code",
   "execution_count": null,
   "metadata": {},
   "outputs": [],
   "source": []
  }
 ],
 "metadata": {
  "kernelspec": {
   "display_name": "Python 3",
   "language": "python",
   "name": "python3"
  },
  "language_info": {
   "codemirror_mode": {
    "name": "ipython",
    "version": 3
   },
   "file_extension": ".py",
   "mimetype": "text/x-python",
   "name": "python",
   "nbconvert_exporter": "python",
   "pygments_lexer": "ipython3",
   "version": "3.7.6"
  }
 },
 "nbformat": 4,
 "nbformat_minor": 4
}
